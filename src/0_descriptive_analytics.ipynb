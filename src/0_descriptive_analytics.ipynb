{
 "cells": [
  {
   "cell_type": "markdown",
   "metadata": {},
   "source": [
    "# PAM's Descriptive Analysis"
   ]
  },
  {
   "cell_type": "markdown",
   "metadata": {},
   "source": [
    "This file contains all the code & analysis developed for the paper titled XXX."
   ]
  },
  {
   "cell_type": "markdown",
   "metadata": {},
   "source": [
    "In this section we will analyse the PAM's datasets. "
   ]
  },
  {
   "cell_type": "code",
   "execution_count": 1,
   "metadata": {},
   "outputs": [],
   "source": [
    "# Packages\n",
    "import os \n",
    "import io\n",
    "import requests\n",
    "import pandas as pd\n",
    "import numpy as np\n",
    "from langdetect import detect\n",
    "import re\n",
    "import yaml\n",
    "pd.set_option('display.max_rows', 500)\n",
    "pd.set_option('display.max_columns', 500)\n",
    "pd.set_option('display.width', 1000)\n",
    "pd.set_option('display.max_colwidth', -1) # print long strings\n",
    "\n",
    "from adjustText import adjust_text\n",
    "\n",
    "import matplotlib.pyplot as plt\n",
    "import seaborn as sns\n",
    "sns.set()"
   ]
  },
  {
   "cell_type": "code",
   "execution_count": 2,
   "metadata": {},
   "outputs": [],
   "source": [
    "# Read yaml file \n",
    "with open('config_file.yaml', 'r') as f:\n",
    "    config = yaml.load(f)"
   ]
  },
  {
   "cell_type": "markdown",
   "metadata": {},
   "source": [
    "## 1. Proposals"
   ]
  },
  {
   "cell_type": "markdown",
   "metadata": {},
   "source": [
    "### 1.1. Clean proposals dataset"
   ]
  },
  {
   "cell_type": "code",
   "execution_count": 53,
   "metadata": {},
   "outputs": [
    {
     "ename": "KeyError",
     "evalue": "'DATA_PATH'",
     "output_type": "error",
     "traceback": [
      "\u001b[0;31m---------------------------------------------------------------------------\u001b[0m",
      "\u001b[0;31mKeyError\u001b[0m                                  Traceback (most recent call last)",
      "\u001b[0;32m<ipython-input-53-39045b12bd1d>\u001b[0m in \u001b[0;36m<module>\u001b[0;34m\u001b[0m\n\u001b[1;32m      1\u001b[0m \u001b[0;31m# Read proposals dataset\u001b[0m\u001b[0;34m\u001b[0m\u001b[0;34m\u001b[0m\u001b[0m\n\u001b[0;32m----> 2\u001b[0;31m \u001b[0mdf\u001b[0m \u001b[0;34m=\u001b[0m \u001b[0mpd\u001b[0m\u001b[0;34m.\u001b[0m\u001b[0mread_csv\u001b[0m\u001b[0;34m(\u001b[0m\u001b[0mconfig\u001b[0m\u001b[0;34m[\u001b[0m\u001b[0;34m'ROOT_PATH'\u001b[0m\u001b[0;34m]\u001b[0m \u001b[0;34m+\u001b[0m \u001b[0mconfig\u001b[0m\u001b[0;34m[\u001b[0m\u001b[0;34m'DATA_PATH'\u001b[0m\u001b[0;34m]\u001b[0m \u001b[0;34m+\u001b[0m \u001b[0;34m'proposals_all.csv'\u001b[0m\u001b[0;34m,\u001b[0m \u001b[0msep\u001b[0m\u001b[0;34m=\u001b[0m\u001b[0;34m','\u001b[0m\u001b[0;34m,\u001b[0m \u001b[0mencoding\u001b[0m\u001b[0;34m=\u001b[0m\u001b[0;34m'utf-8'\u001b[0m\u001b[0;34m)\u001b[0m\u001b[0;34m\u001b[0m\u001b[0m\n\u001b[0m",
      "\u001b[0;31mKeyError\u001b[0m: 'DATA_PATH'"
     ]
    }
   ],
   "source": [
    "# Read proposals dataset\n",
    "df = pd.read_csv(config['ROOT_PATH'] + '/data/' + 'proposals_all.csv', sep=',', encoding='utf-8')"
   ]
  },
  {
   "cell_type": "code",
   "execution_count": 29,
   "metadata": {},
   "outputs": [],
   "source": [
    "# Change some column types\n",
    "df = df.astype({'proposal': 'object'})\n",
    "df['proposal'] = df['proposal'].astype(str)\n",
    "df['status'] = df['status'].apply(str)"
   ]
  },
  {
   "cell_type": "code",
   "execution_count": 30,
   "metadata": {},
   "outputs": [],
   "source": [
    "# What does 0 and 1 mean in the status column?\n",
    "# status == '0' is equal to status == 'rejected'\n",
    "\n",
    "# Clean status\n",
    "\n",
    "df['status'] = np.where(df['status'] == '0', 'rejected', df['status'])\n",
    "df['status'] = np.where(df['status'] == '1', 'accepted', df['status'])"
   ]
  },
  {
   "cell_type": "code",
   "execution_count": 7,
   "metadata": {},
   "outputs": [],
   "source": [
    "# Clean text\n",
    "def clean_text(data):\n",
    "    data = data.str.replace(u'Ã±', 'ñ')\n",
    "    data = data.str.replace(u'Â·', '·')\n",
    "    data = data.str.replace(u'â€¢', '·')\n",
    "    data = data.str.replace(u'Ã§', 'ç')\n",
    "    data = data.str.replace(u'Ã©', 'é')\n",
    "    data = data.str.replace(u'Ã¨', 'è')\n",
    "    data = data.str.replace(u'Ã\\xad', 'í')\n",
    "    data = data.str.replace(u'ÃÂ­', 'í')\n",
    "    data = data.str.replace(u'Ã¯', 'ï')\n",
    "    data = data.str.replace(u'ÃÂ¯', 'ï')\n",
    "    data = data.str.replace(u'Ã³', 'ó')\n",
    "    data = data.str.replace(u'ÃÂ³', 'ó')\n",
    "    data = data.str.replace(u'ÃÂ²', 'ò')\n",
    "    data = data.str.replace(u'Ã²', 'ò')\n",
    "    data = data.str.replace(u'Ãº', 'ú')\n",
    "    data = data.str.replace(u'Ã¼', 'ü')\n",
    "\n",
    "    data = data.str.replace(u'â', \"'\")\n",
    "    data = data.str.replace(u'Ã\\xa0', 'à')\n",
    "    data = data.str.replace(u'Ã\\x83Â\\xa0', 'à')\n",
    "    \n",
    "    data = data.str.replace(u'<p>', '')\n",
    "    data = data.str.replace(u'<div>', '')\n",
    "    data = data.str.replace(u'<br>', '')\n",
    "    data = data.str.replace(u'</p>', '')\n",
    "    data = data.str.replace(u'</div>', '')\n",
    "    \n",
    "    data = data.str.replace(u'Ã\\x89', 'é')\n",
    "    data = data.str.replace(u'Ã¡', 'á')\n",
    "    \n",
    "    \n",
    "\n",
    "    return data"
   ]
  },
  {
   "cell_type": "code",
   "execution_count": 8,
   "metadata": {},
   "outputs": [],
   "source": [
    "# Apply clean text\n",
    "df['district'] = clean_text(df['district'])\n",
    "df['category'] = clean_text(df['category'])\n",
    "df['subcategory'] = clean_text(df['subcategory'])\n",
    "df['author_name'] = clean_text(df['author_name'])\n",
    "df['title_es'] = clean_text(df['title_es'])\n",
    "df['title_ca'] = clean_text(df['title_ca'])\n",
    "df['description_es'] = clean_text(df['description_es'])\n",
    "df['description_ca'] = clean_text(df['description_ca'])"
   ]
  },
  {
   "cell_type": "code",
   "execution_count": 9,
   "metadata": {},
   "outputs": [],
   "source": [
    "# Create 'group_author' variable which aggregates author's name\n",
    "df['group_author'] =  np.where(df['author_name'] == 'Ajuntament de Barcelona', 'administration', 'citizens')"
   ]
  },
  {
   "cell_type": "code",
   "execution_count": 13,
   "metadata": {},
   "outputs": [],
   "source": [
    "# Add language columns\n",
    "# read the original dataset (without translations)\n",
    "url = 'https://raw.githubusercontent.com/elaragon/metadecidim/master/proposals.tsv'\n",
    "s = requests.get(url).content\n",
    "df_origin = pd.read_csv(io.StringIO(s.decode('utf-8')), sep = '\\t')\n",
    "\n",
    "# Create column with language of proposal\n",
    "def detect_lang(x):\n",
    "    try:\n",
    "        return detect(x)\n",
    "    except:\n",
    "        return 'null'\n",
    "    \n",
    "    \n",
    "df_origin['language'] = df_origin['summary'].apply(detect_lang)\n",
    "df_origin['language'].value_counts()\n",
    "\n",
    "# Clean different languages wrongly detected\n",
    "df_origin[['summary', 'language']].loc[(df_origin['language'] != 'ca') & (df_origin['language'] != 'es')]\n",
    "df_origin.loc[((df_origin['language'] != 'ca') & (df_origin['language'] != 'es') & (df_origin['language'] != 'null')), 'language'] = 'ca' # all different languages are indeed catalan\n"
   ]
  },
  {
   "cell_type": "code",
   "execution_count": 14,
   "metadata": {},
   "outputs": [
    {
     "name": "stderr",
     "output_type": "stream",
     "text": [
      "/home/avaldivia/env35/lib/python3.5/site-packages/ipykernel_launcher.py:3: SettingWithCopyWarning: \n",
      "A value is trying to be set on a copy of a slice from a DataFrame.\n",
      "Try using .loc[row_indexer,col_indexer] = value instead\n",
      "\n",
      "See the caveats in the documentation: http://pandas.pydata.org/pandas-docs/stable/indexing.html#indexing-view-versus-copy\n",
      "  This is separate from the ipykernel package so we can avoid doing imports until\n"
     ]
    }
   ],
   "source": [
    "# Merge this new column with df\n",
    "df_origin_aux = df_origin[['id', 'total_positive_comments', 'total_neutral_comments', 'total_negative_comments', 'rejected_message', 'language']]\n",
    "df_origin_aux['id'] = df_origin_aux['id'].astype(str)\n",
    "df = pd.merge(df, df_origin_aux, left_on=  ['proposal'], right_on= ['id'], how = 'left')"
   ]
  },
  {
   "cell_type": "code",
   "execution_count": 16,
   "metadata": {},
   "outputs": [
    {
     "data": {
      "text/plain": [
       "Index(['proposal', 'origin', 'scope', 'district', 'category', 'subcategory', 'author', 'author_name', 'created_at', 'votes', 'comments', 'url', 'status', 'title_es', 'title_ca', 'description_es', 'description_ca', 'group_author', 'total_positive_comments', 'total_neutral_comments', 'total_negative_comments', 'rejected_message', 'language'], dtype='object')"
      ]
     },
     "execution_count": 16,
     "metadata": {},
     "output_type": "execute_result"
    }
   ],
   "source": [
    "# Take a look to the name of columns\n",
    "df = df.drop(columns=['Unnamed: 0', 'Unnamed: 18', 'Unnamed: 19', 'Unnamed: 20', 'Unnamed: 21', 'Unnamed: 22', 'Unnamed: 23', 'Unnamed: 24', 'Unnamed: 25', 'id'])\n",
    "df.columns"
   ]
  },
  {
   "cell_type": "code",
   "execution_count": 17,
   "metadata": {},
   "outputs": [
    {
     "data": {
      "text/html": [
       "<div>\n",
       "<style scoped>\n",
       "    .dataframe tbody tr th:only-of-type {\n",
       "        vertical-align: middle;\n",
       "    }\n",
       "\n",
       "    .dataframe tbody tr th {\n",
       "        vertical-align: top;\n",
       "    }\n",
       "\n",
       "    .dataframe thead th {\n",
       "        text-align: right;\n",
       "    }\n",
       "</style>\n",
       "<table border=\"1\" class=\"dataframe\">\n",
       "  <thead>\n",
       "    <tr style=\"text-align: right;\">\n",
       "      <th></th>\n",
       "      <th>proposal</th>\n",
       "      <th>origin</th>\n",
       "      <th>scope</th>\n",
       "      <th>district</th>\n",
       "      <th>category</th>\n",
       "      <th>subcategory</th>\n",
       "      <th>author</th>\n",
       "      <th>author_name</th>\n",
       "      <th>created_at</th>\n",
       "      <th>votes</th>\n",
       "      <th>comments</th>\n",
       "      <th>url</th>\n",
       "      <th>status</th>\n",
       "      <th>title_es</th>\n",
       "      <th>title_ca</th>\n",
       "      <th>description_es</th>\n",
       "      <th>description_ca</th>\n",
       "      <th>group_author</th>\n",
       "      <th>total_positive_comments</th>\n",
       "      <th>total_neutral_comments</th>\n",
       "      <th>total_negative_comments</th>\n",
       "      <th>rejected_message</th>\n",
       "      <th>language</th>\n",
       "    </tr>\n",
       "  </thead>\n",
       "  <tbody>\n",
       "    <tr>\n",
       "      <th>0</th>\n",
       "      <td>3591</td>\n",
       "      <td>citizenship</td>\n",
       "      <td>district</td>\n",
       "      <td>Nou Barris</td>\n",
       "      <td>Economia plural</td>\n",
       "      <td>Un nou lideratge públic</td>\n",
       "      <td>5187</td>\n",
       "      <td>VILLARRASA</td>\n",
       "      <td>2/27/2016</td>\n",
       "      <td>16</td>\n",
       "      <td>0</td>\n",
       "      <td>https://decidim.barcelona.cat/proposals/reduccion-del-ibi-de-las-viviendas-de-torre-baro</td>\n",
       "      <td>rejected</td>\n",
       "      <td>Reducción del IBI de las viviendas de TORRE BARÃN</td>\n",
       "      <td>Reducció de l'IBI dels habitatges de TORRE BARÃ</td>\n",
       "      <td>Revisar el alto valor que se paga del Impuesto de Bienes Inmuebles en Torre Baró, sobre todo aquellas fincas construidas a partir del año 2001.Revisión de la categoría de calles, del valor del suelo y de la construcción con el Objeto que el valor catastral se reduzca Hasta el punto que se corresponda con la realidad de las fincas y super entorno.</td>\n",
       "      <td>Revisar l'alt valor que es paga l'Impost de Béns Immobles a Torre Baró, sobretot aquelles finques construïdes a partir de l'any 2001.Revisión de la categoria de carrers, del valor del sòl i de la construcció amb l'objecte que el valor cadastral es redueixi fins al punt que es correspongui amb la realitat de les finques i el seu entorn.</td>\n",
       "      <td>citizens</td>\n",
       "      <td>0</td>\n",
       "      <td>0</td>\n",
       "      <td>0</td>\n",
       "      <td>No hi ha competències i l’Ajuntament no disposa de la capacitat d’influir. No obstant això, el govern municipal està treballant en la recerca de solucions alternatives per reduir l'import de l'IBI en barris com Torre Baró, que considerem injust.</td>\n",
       "      <td>es</td>\n",
       "    </tr>\n",
       "  </tbody>\n",
       "</table>\n",
       "</div>"
      ],
      "text/plain": [
       "  proposal       origin     scope    district         category              subcategory author author_name created_at  votes  comments                                                                                       url    status                                            title_es                                          title_ca                                                                                                                                                                                                                                                                                                                                                description_es  \\\n",
       "0  3591     citizenship  district  Nou Barris  Economia plural  Un nou lideratge públic  5187   VILLARRASA  2/27/2016  16     0         https://decidim.barcelona.cat/proposals/reduccion-del-ibi-de-las-viviendas-de-torre-baro  rejected  Reducción del IBI de las viviendas de TORRE BARÃN  Reducció de l'IBI dels habitatges de TORRE BARÃ  Revisar el alto valor que se paga del Impuesto de Bienes Inmuebles en Torre Baró, sobre todo aquellas fincas construidas a partir del año 2001.Revisión de la categoría de calles, del valor del suelo y de la construcción con el Objeto que el valor catastral se reduzca Hasta el punto que se corresponda con la realidad de las fincas y super entorno.   \n",
       "\n",
       "                                                                                                                                                                                                                                                                                                                                      description_ca group_author  total_positive_comments  total_neutral_comments  total_negative_comments                                                                                                                                                                                                                                       rejected_message language  \n",
       "0  Revisar l'alt valor que es paga l'Impost de Béns Immobles a Torre Baró, sobretot aquelles finques construïdes a partir de l'any 2001.Revisión de la categoria de carrers, del valor del sòl i de la construcció amb l'objecte que el valor cadastral es redueixi fins al punt que es correspongui amb la realitat de les finques i el seu entorn.  citizens     0                        0                       0                        No hi ha competències i l’Ajuntament no disposa de la capacitat d’influir. No obstant això, el govern municipal està treballant en la recerca de solucions alternatives per reduir l'import de l'IBI en barris com Torre Baró, que considerem injust.  es       "
      ]
     },
     "execution_count": 17,
     "metadata": {},
     "output_type": "execute_result"
    }
   ],
   "source": [
    "df.head(1)"
   ]
  },
  {
   "cell_type": "markdown",
   "metadata": {},
   "source": [
    "### Votes, comments, district and category analysis"
   ]
  },
  {
   "cell_type": "code",
   "execution_count": 18,
   "metadata": {
    "scrolled": true
   },
   "outputs": [
    {
     "name": "stdout",
     "output_type": "stream",
     "text": [
      "              votes      comments\n",
      "count  10860.000000  10860.000000\n",
      "mean   15.201842     1.675046    \n",
      "std    43.845657     5.708035    \n",
      "min    0.000000      0.000000    \n",
      "25%    1.000000      0.000000    \n",
      "50%    5.000000      0.000000    \n",
      "75%    15.000000     1.000000    \n",
      "max    1720.000000   337.000000  \n",
      "\n",
      "district\n",
      "Ciutat Vella             971\n",
      "Eixample                 539\n",
      "Gràcia                   713\n",
      "Horta - Guinardó         606\n",
      "Les Corts                585\n",
      "None                     824\n",
      "Nou Barris               444\n",
      "Sant Andreu              516\n",
      "Sant Martí               817\n",
      "Sants Montjuïc           685\n",
      "Sarrià - Sant Gervasi    472\n",
      "Name: votes, dtype: int64\n",
      "\n",
      "category\n",
      "Bon govern             888 \n",
      "Bon viure              4867\n",
      "Economia plural        1368\n",
      "Justícia global        62  \n",
      "Transició ecològica    3675\n",
      "Name: votes, dtype: int64\n",
      "\n",
      "group_author\n",
      "administration    1305\n",
      "citizens          9555\n",
      "Name: votes, dtype: int64\n",
      "\n",
      "language\n",
      "ca      10123\n",
      "es      718  \n",
      "null    19   \n",
      "Name: votes, dtype: int64\n",
      "\n"
     ]
    }
   ],
   "source": [
    "# Summary of variables\n",
    "df_aux = df[['votes', 'comments', 'district', 'category', 'status', 'group_author', 'language']]\n",
    "summary_list = [df_aux.describe()] + \\\n",
    "               [df_aux.groupby([c])[df_aux.columns[0]].count() \\\n",
    "                for c in df_aux.columns if df_aux[c].dtype == 'object']\n",
    "\n",
    "for i in summary_list:\n",
    "    print(i)\n",
    "    print()"
   ]
  },
  {
   "cell_type": "markdown",
   "metadata": {},
   "source": [
    "Proposals usually obtain a low number of votes (75% of them obtained at most 15 votes), although, the analysis shows that some proposals were very popular (with at most 1,720 votes). The distribution of comments also exposes that most of them (75%) obtained 0 or 1 comments. However, some of them were very commented (max. is 337).\n",
    "\n",
    "The district with more proposals was Ciutat Vella, with at least 971 proposals. On the other hand, the Sarrià SAnt Gervasi was the least participative. \n",
    "\n",
    "The most popular category was Bon viure, the least 'Justicia Global'."
   ]
  },
  {
   "cell_type": "code",
   "execution_count": 19,
   "metadata": {},
   "outputs": [
    {
     "data": {
      "text/plain": [
       "Text(0.5, 1.0, 'Distribution of votes on accepted proposals')"
      ]
     },
     "execution_count": 19,
     "metadata": {},
     "output_type": "execute_result"
    },
    {
     "data": {
      "image/png": "[encoded data removed]",
      "text/plain": [
       "<Figure size 432x288 with 1 Axes>"
      ]
     },
     "metadata": {
      "needs_background": "light"
     },
     "output_type": "display_data"
    }
   ],
   "source": [
    "# Distribution of votes on accepted proposals\n",
    "sns.distplot(df_aux.loc[(df_aux['status']=='accepted'), \n",
    "            'votes'], color='b', kde=False, label = \"accepted\")   \n",
    "plt.xlabel('Votes') \n",
    "plt.title('Distribution of votes on accepted proposals')"
   ]
  },
  {
   "cell_type": "code",
   "execution_count": 20,
   "metadata": {},
   "outputs": [
    {
     "data": {
      "text/plain": [
       "Text(0.5, 1.0, 'Distribution of votes on rejected proposals')"
      ]
     },
     "execution_count": 20,
     "metadata": {},
     "output_type": "execute_result"
    },
    {
     "data": {
      "image/png": "[encoded data removed]",
      "text/plain": [
       "<Figure size 432x288 with 1 Axes>"
      ]
     },
     "metadata": {
      "needs_background": "light"
     },
     "output_type": "display_data"
    }
   ],
   "source": [
    "# Distribution of votes on rejected proposals\n",
    "sns.distplot(df_aux.loc[(df_aux['status']=='rejected'), \n",
    "            'votes'], color='r',kde=False, label = \"rejected\")  \n",
    "plt.xlabel('votes')\n",
    "plt.title('Distribution of votes on rejected proposals')"
   ]
  },
  {
   "cell_type": "code",
   "execution_count": 21,
   "metadata": {},
   "outputs": [
    {
     "data": {
      "text/plain": [
       "Text(0.5, 1.0, 'Distribution of comments on accepted proposals')"
      ]
     },
     "execution_count": 21,
     "metadata": {},
     "output_type": "execute_result"
    },
    {
     "data": {
      "image/png": "[encoded data removed]",
      "text/plain": [
       "<Figure size 432x288 with 1 Axes>"
      ]
     },
     "metadata": {
      "needs_background": "light"
     },
     "output_type": "display_data"
    }
   ],
   "source": [
    "# Distribution of comments on accepted proposals\n",
    "sns.distplot(df_aux.loc[(df_aux['status']=='accepted'), \n",
    "            'comments'], color='b', kde=False, label = \"accepted\") \n",
    "\n",
    "plt.xlabel('comments')\n",
    "plt.title('Distribution of comments on accepted proposals')"
   ]
  },
  {
   "cell_type": "code",
   "execution_count": 22,
   "metadata": {},
   "outputs": [
    {
     "data": {
      "text/plain": [
       "Text(0.5, 1.0, 'Distribution of comments on rejected proposals')"
      ]
     },
     "execution_count": 22,
     "metadata": {},
     "output_type": "execute_result"
    },
    {
     "data": {
      "image/png": "[encoded data removed]",
      "text/plain": [
       "<Figure size 432x288 with 1 Axes>"
      ]
     },
     "metadata": {
      "needs_background": "light"
     },
     "output_type": "display_data"
    }
   ],
   "source": [
    "# Distribution of comments on rejected proposals\n",
    "sns.distplot(df_aux.loc[(df_aux['status']=='rejected'), \n",
    "            'comments'], color='r', kde=False, label = \"rejected\")  \n",
    "\n",
    "plt.xlabel('comments')\n",
    "plt.title('Distribution of comments on rejected proposals')"
   ]
  },
  {
   "cell_type": "code",
   "execution_count": 23,
   "metadata": {},
   "outputs": [],
   "source": [
    "# Analysis of participation and status per district\n",
    "df_cross_tab = df_aux.loc[(df_aux['district'] != 'None')]\n",
    "df_cross_tab = pd.crosstab(df_cross_tab.district, df_cross_tab.status, margins = True, margins_name = 'all').reset_index()\n",
    "df_cross_tab['p_accepted'] = 100*(df_cross_tab['accepted']/df_cross_tab['all'])\n",
    "df_cross_tab['p_rejected'] = 100*(df_cross_tab['rejected']/df_cross_tab['all'])\n",
    "total_proposals = df_cross_tab.loc[(df_cross_tab['district'] == 'all')]['all'][10]\n",
    "df_cross_tab['total'] = total_proposals\n",
    "df_cross_tab['p_total'] = 100*(df_cross_tab['all']/df_cross_tab['total'])\n",
    "df_cross_tab = df_cross_tab.round(2)\n",
    "df_cross_tab = df_cross_tab.loc[(df_cross_tab['district'] != 'all')]"
   ]
  },
  {
   "cell_type": "code",
   "execution_count": 24,
   "metadata": {},
   "outputs": [
    {
     "data": {
      "image/png": "[encoded data removed]",
      "text/plain": [
       "<Figure size 432x288 with 1 Axes>"
      ]
     },
     "metadata": {
      "needs_background": "light"
     },
     "output_type": "display_data"
    }
   ],
   "source": [
    "# Plot of analysis of participation and status per district\n",
    "xs = df_cross_tab['p_accepted']\n",
    "ys = df_cross_tab['p_total']\n",
    "zs = df_cross_tab['district']\n",
    "cs = ['darkviolet', 'lightpink', 'gold', 'crimson', 'royalblue', 'limegreen', 'thistle' , 'chocolate', 'orange', 'mediumturquoise']\n",
    "plt.scatter(xs, ys, color=cs)\n",
    "\n",
    "\n",
    "\n",
    "for x,y,z,c in zip(xs,ys, zs, cs):\n",
    "\n",
    "    #label = \"{:.2f}\".format(x)\n",
    "    #plt.annotate(label, # this is the text\n",
    "                 #(x,y), # this is the point to label\n",
    "                 #textcoords=\"offset points\", # how to position the text\n",
    "                 #color = 'black',\n",
    "                 #xytext=(3,6), # distance from text to points (x,y)\n",
    "                 #ha='right') # horizontal alignment can be left, right or center\n",
    "    \n",
    "    label = z\n",
    "    if label == 'Les Corts':\n",
    "        plt.annotate(label, # this is the text\n",
    "                 (x-2.3,y-0.5), # this is the point to label,\n",
    "                 color = 'white', # color of text\n",
    "                 textcoords=\"offset points\", # how to position the text,\n",
    "                 bbox=dict(boxstyle=\"round,pad=0.1\", fc=c, ec=c, lw=0.01), # this is the box for the text\n",
    "                 xytext=(0,10), # distance from text to points (x,y)\n",
    "                 ha='right', fontsize = 10) # horizontal alignment can be left, right or center\n",
    "        \n",
    "    elif z == 'Sant Andreu':\n",
    "        plt.annotate(label, # this is the text\n",
    "                 (x,y-1.3), # this is the point to label,\n",
    "                 color = 'white', # color of text\n",
    "                 textcoords=\"offset points\", # how to position the text,\n",
    "                 bbox=dict(boxstyle=\"round,pad=0.1\", fc=c, ec=c, lw=0.01), # this is the box for the text\n",
    "                 xytext=(0,10), # distance from text to points (x,y)\n",
    "                 ha='center', fontsize = 10) # horizontal alignment can be left, right or center   \n",
    "    elif z == 'Nou Barris':\n",
    "        plt.annotate(label, # this is the text\n",
    "                 (x-5,y-1.3), # this is the point to label,\n",
    "                 color = 'white', # color of text\n",
    "                 textcoords=\"offset points\", # how to position the text,\n",
    "                 bbox=dict(boxstyle=\"round,pad=0.1\", fc=c, ec=c, lw=0.01), # this is the box for the text\n",
    "                 xytext=(0,10), # distance from text to points (x,y)\n",
    "                 ha='center', fontsize = 10) # horizontal alignment can be left, right or center    \n",
    "    elif z == 'Sant Martí':\n",
    "        plt.annotate(label, # this is the text\n",
    "                 (x-5,y-1.3), # this is the point to label,\n",
    "                 color = 'white', # color of text\n",
    "                 textcoords=\"offset points\", # how to position the text,\n",
    "                 bbox=dict(boxstyle=\"round,pad=0.1\", fc=c, ec=c, lw=0.01), # this is the box for the text\n",
    "                 xytext=(0,10), # distance from text to points (x,y)\n",
    "                 ha='center', fontsize = 10) # horizontal alignment can be left, right or center    \n",
    "    elif z == 'Ciutat Vella':\n",
    "        plt.annotate(label, # this is the text\n",
    "                 (x+2,y-1.3), # this is the point to label,\n",
    "                 color = 'white', # color of text\n",
    "                 textcoords=\"offset points\", # how to position the text,\n",
    "                 bbox=dict(boxstyle=\"round,pad=0.1\", fc=c, ec=c, lw=0.01), # this is the box for the text\n",
    "                 xytext=(0,10), # distance from text to points (x,y)\n",
    "                 ha='center', fontsize = 10) # horizontal alignment can be left, right or center      \n",
    "    else:\n",
    "        plt.annotate(label, # this is the text\n",
    "                     (x,y), # this is the point to label,\n",
    "                     color = 'white', # color of text\n",
    "                     textcoords=\"offset points\", # how to position the text,\n",
    "                     bbox=dict(boxstyle=\"round,pad=0.1\", fc=c, ec=c, lw=0.1), # this is the box for the text\n",
    "                     xytext=(0,10), # distance from text to points (x,y)\n",
    "                     ha='center', fontsize = 10) # horizontal alignment can be left, right or center\n",
    "\n",
    "#plt.legend(zs)\n",
    "plt.xticks()\n",
    "plt.yticks()\n",
    "plt.xlim((20,109))\n",
    "plt.ylim((5,17))\n",
    "plt.xlabel('% of accepted proposals')\n",
    "plt.ylabel('% participation share')\n",
    "plt.title('Participation and accepted proposals per district')\n",
    "plt.grid(True)\n",
    "\n",
    "plt.show()"
   ]
  },
  {
   "cell_type": "code",
   "execution_count": 25,
   "metadata": {},
   "outputs": [],
   "source": [
    "# Analysis of participation and status per category\n",
    "df_cross_tab = df_aux\n",
    "df_cross_tab = pd.crosstab(df_cross_tab.category, df_cross_tab.status, margins = True, margins_name = 'all').reset_index()\n",
    "df_cross_tab['p_accepted'] = 100*(df_cross_tab['accepted']/df_cross_tab['all'])\n",
    "df_cross_tab['p_rejected'] = 100*(df_cross_tab['rejected']/df_cross_tab['all'])\n",
    "#total_proposals = df_cross_tab.loc[(df_cross_tab['category'] == 'all')]['all'][10]\n",
    "df_cross_tab['total'] = total_proposals\n",
    "df_cross_tab['p_total'] = 100*(df_cross_tab['all']/df_cross_tab['total'])\n",
    "df_cross_tab = df_cross_tab.round(2)\n",
    "df_cross_tab = df_cross_tab.loc[(df_cross_tab['category'] != 'all')]"
   ]
  },
  {
   "cell_type": "code",
   "execution_count": 26,
   "metadata": {},
   "outputs": [
    {
     "data": {
      "text/html": [
       "<div>\n",
       "<style scoped>\n",
       "    .dataframe tbody tr th:only-of-type {\n",
       "        vertical-align: middle;\n",
       "    }\n",
       "\n",
       "    .dataframe tbody tr th {\n",
       "        vertical-align: top;\n",
       "    }\n",
       "\n",
       "    .dataframe thead th {\n",
       "        text-align: right;\n",
       "    }\n",
       "</style>\n",
       "<table border=\"1\" class=\"dataframe\">\n",
       "  <thead>\n",
       "    <tr style=\"text-align: right;\">\n",
       "      <th>status</th>\n",
       "      <th>category</th>\n",
       "      <th>accepted</th>\n",
       "      <th>rejected</th>\n",
       "      <th>all</th>\n",
       "      <th>p_accepted</th>\n",
       "      <th>p_rejected</th>\n",
       "      <th>total</th>\n",
       "      <th>p_total</th>\n",
       "    </tr>\n",
       "  </thead>\n",
       "  <tbody>\n",
       "    <tr>\n",
       "      <th>0</th>\n",
       "      <td>Bon govern</td>\n",
       "      <td>677</td>\n",
       "      <td>211</td>\n",
       "      <td>888</td>\n",
       "      <td>76.24</td>\n",
       "      <td>23.76</td>\n",
       "      <td>6348</td>\n",
       "      <td>13.99</td>\n",
       "    </tr>\n",
       "    <tr>\n",
       "      <th>1</th>\n",
       "      <td>Bon viure</td>\n",
       "      <td>3725</td>\n",
       "      <td>1142</td>\n",
       "      <td>4867</td>\n",
       "      <td>76.54</td>\n",
       "      <td>23.46</td>\n",
       "      <td>6348</td>\n",
       "      <td>76.67</td>\n",
       "    </tr>\n",
       "    <tr>\n",
       "      <th>2</th>\n",
       "      <td>Economia plural</td>\n",
       "      <td>1077</td>\n",
       "      <td>291</td>\n",
       "      <td>1368</td>\n",
       "      <td>78.73</td>\n",
       "      <td>21.27</td>\n",
       "      <td>6348</td>\n",
       "      <td>21.55</td>\n",
       "    </tr>\n",
       "    <tr>\n",
       "      <th>3</th>\n",
       "      <td>Justícia global</td>\n",
       "      <td>40</td>\n",
       "      <td>22</td>\n",
       "      <td>62</td>\n",
       "      <td>64.52</td>\n",
       "      <td>35.48</td>\n",
       "      <td>6348</td>\n",
       "      <td>0.98</td>\n",
       "    </tr>\n",
       "    <tr>\n",
       "      <th>4</th>\n",
       "      <td>Transició ecològica</td>\n",
       "      <td>2623</td>\n",
       "      <td>1052</td>\n",
       "      <td>3675</td>\n",
       "      <td>71.37</td>\n",
       "      <td>28.63</td>\n",
       "      <td>6348</td>\n",
       "      <td>57.89</td>\n",
       "    </tr>\n",
       "  </tbody>\n",
       "</table>\n",
       "</div>"
      ],
      "text/plain": [
       "status             category  accepted  rejected   all  p_accepted  p_rejected  total  p_total\n",
       "0       Bon govern           677       211       888   76.24       23.76       6348   13.99  \n",
       "1       Bon viure            3725      1142      4867  76.54       23.46       6348   76.67  \n",
       "2       Economia plural      1077      291       1368  78.73       21.27       6348   21.55  \n",
       "3       Justícia global      40        22        62    64.52       35.48       6348   0.98   \n",
       "4       Transició ecològica  2623      1052      3675  71.37       28.63       6348   57.89  "
      ]
     },
     "execution_count": 26,
     "metadata": {},
     "output_type": "execute_result"
    }
   ],
   "source": [
    "df_cross_tab"
   ]
  },
  {
   "cell_type": "code",
   "execution_count": 27,
   "metadata": {},
   "outputs": [
    {
     "data": {
      "image/png": "[encoded data removed]",
      "text/plain": [
       "<Figure size 432x288 with 1 Axes>"
      ]
     },
     "metadata": {
      "needs_background": "light"
     },
     "output_type": "display_data"
    }
   ],
   "source": [
    "# Plot of analysis of participation and status per district\n",
    "xs = df_cross_tab['p_accepted']\n",
    "ys = df_cross_tab['p_total']\n",
    "zs = df_cross_tab['category']\n",
    "cs = ['gold', 'tomato', 'darkgoldenrod', 'blueviolet', 'forestgreen']\n",
    "plt.scatter(xs, ys, color=cs)\n",
    "\n",
    "\n",
    "\n",
    "for x,y,z,c in zip(xs,ys, zs, cs):\n",
    "\n",
    "    #label = \"{:.2f}\".format(x)\n",
    "    #plt.annotate(label, # this is the text\n",
    "                 #(x,y), # this is the point to label\n",
    "                 #textcoords=\"offset points\", # how to position the text\n",
    "                 #color = 'black',\n",
    "                 #xytext=(3,6), # distance from text to points (x,y)\n",
    "                 #ha='right') # horizontal alignment can be left, right or center\n",
    "    \n",
    "    label = z\n",
    "    if label == 'Bon govern':\n",
    "        plt.annotate(label, # this is the text\n",
    "                 (x-1,y-13), # this is the point to label,\n",
    "                 color = 'white', # color of text\n",
    "                 textcoords=\"offset points\", # how to position the text,\n",
    "                 bbox=dict(boxstyle=\"round,pad=0.1\", fc=c, ec=c, lw=0.01), # this is the box for the text\n",
    "                 xytext=(0,10), # distance from text to points (x,y)\n",
    "                 ha='center', fontsize = 12) # horizontal alignment can be left, right or center\n",
    "  \n",
    "    else:\n",
    "        plt.annotate(label, # this is the text\n",
    "                     (x,y), # this is the point to label,\n",
    "                     color = 'white', # color of text\n",
    "                     textcoords=\"offset points\", # how to position the text,\n",
    "                     bbox=dict(boxstyle=\"round,pad=0.1\", fc=c, ec=c, lw=0.1), # this is the box for the text\n",
    "                     xytext=(0,10), # distance from text to points (x,y)\n",
    "                     ha='center', fontsize = 12) # horizontal alignment can be left, right or center\n",
    "\n",
    "#plt.legend(zs)\n",
    "plt.xticks()\n",
    "plt.yticks()\n",
    "plt.xlim((40,90))\n",
    "plt.ylim((-5,100))\n",
    "plt.xlabel('% of accepted proposals')\n",
    "plt.ylabel('% participation share')\n",
    "plt.title('Participation and accepted proposals per category')\n",
    "plt.grid(True)\n",
    "\n",
    "plt.show()"
   ]
  },
  {
   "cell_type": "markdown",
   "metadata": {},
   "source": [
    "### Accepted vs. rejected and (author, origin, district, category, language)"
   ]
  },
  {
   "cell_type": "code",
   "execution_count": 39,
   "metadata": {},
   "outputs": [
    {
     "data": {
      "text/html": [
       "<div>\n",
       "<style scoped>\n",
       "    .dataframe tbody tr th:only-of-type {\n",
       "        vertical-align: middle;\n",
       "    }\n",
       "\n",
       "    .dataframe tbody tr th {\n",
       "        vertical-align: top;\n",
       "    }\n",
       "\n",
       "    .dataframe thead th {\n",
       "        text-align: right;\n",
       "    }\n",
       "</style>\n",
       "<table border=\"1\" class=\"dataframe\">\n",
       "  <thead>\n",
       "    <tr style=\"text-align: right;\">\n",
       "      <th>status</th>\n",
       "      <th>author_name</th>\n",
       "      <th>accepted</th>\n",
       "      <th>rejected</th>\n",
       "    </tr>\n",
       "  </thead>\n",
       "  <tbody>\n",
       "    <tr>\n",
       "      <th>0</th>\n",
       "      <td>Ajuntament de Barcelona</td>\n",
       "      <td>1248</td>\n",
       "      <td>57</td>\n",
       "    </tr>\n",
       "    <tr>\n",
       "      <th>1</th>\n",
       "      <td>None</td>\n",
       "      <td>653</td>\n",
       "      <td>193</td>\n",
       "    </tr>\n",
       "    <tr>\n",
       "      <th>2</th>\n",
       "      <td>suport decidim.HG i Les Corts</td>\n",
       "      <td>342</td>\n",
       "      <td>154</td>\n",
       "    </tr>\n",
       "    <tr>\n",
       "      <th>3</th>\n",
       "      <td>suport decidim.barcelona</td>\n",
       "      <td>313</td>\n",
       "      <td>78</td>\n",
       "    </tr>\n",
       "    <tr>\n",
       "      <th>4</th>\n",
       "      <td>Suport Ciutat Vella</td>\n",
       "      <td>217</td>\n",
       "      <td>73</td>\n",
       "    </tr>\n",
       "    <tr>\n",
       "      <th>5</th>\n",
       "      <td>GR_Raons Públiques</td>\n",
       "      <td>202</td>\n",
       "      <td>52</td>\n",
       "    </tr>\n",
       "    <tr>\n",
       "      <th>6</th>\n",
       "      <td>Suport General - Decidim Barcelona</td>\n",
       "      <td>200</td>\n",
       "      <td>106</td>\n",
       "    </tr>\n",
       "    <tr>\n",
       "      <th>7</th>\n",
       "      <td>Suport decidim Activitat Econòmica</td>\n",
       "      <td>183</td>\n",
       "      <td>40</td>\n",
       "    </tr>\n",
       "    <tr>\n",
       "      <th>8</th>\n",
       "      <td>suport.decidim1</td>\n",
       "      <td>169</td>\n",
       "      <td>33</td>\n",
       "    </tr>\n",
       "    <tr>\n",
       "      <th>9</th>\n",
       "      <td>suportdecidim.santandreu</td>\n",
       "      <td>165</td>\n",
       "      <td>72</td>\n",
       "    </tr>\n",
       "    <tr>\n",
       "      <th>10</th>\n",
       "      <td>eixampledelibera</td>\n",
       "      <td>150</td>\n",
       "      <td>29</td>\n",
       "    </tr>\n",
       "  </tbody>\n",
       "</table>\n",
       "</div>"
      ],
      "text/plain": [
       "status                         author_name  accepted  rejected\n",
       "0       Ajuntament de Barcelona             1248      57      \n",
       "1       None                                653       193     \n",
       "2       suport decidim.HG i Les Corts       342       154     \n",
       "3       suport decidim.barcelona            313       78      \n",
       "4       Suport Ciutat Vella                 217       73      \n",
       "5       GR_Raons Públiques                  202       52      \n",
       "6       Suport General - Decidim Barcelona  200       106     \n",
       "7       Suport decidim Activitat Econòmica  183       40      \n",
       "8       suport.decidim1                     169       33      \n",
       "9       suportdecidim.santandreu            165       72      \n",
       "10      eixampledelibera                    150       29      "
      ]
     },
     "execution_count": 39,
     "metadata": {},
     "output_type": "execute_result"
    }
   ],
   "source": [
    "# Authors with most accepted proposals\n",
    "df[['author_name', 'status']].pivot_table(index='author_name', columns='status', aggfunc=len, fill_value=0).sort_values(by='accepted', ascending = False).reset_index()[0:11]"
   ]
  },
  {
   "cell_type": "code",
   "execution_count": 40,
   "metadata": {},
   "outputs": [
    {
     "data": {
      "text/html": [
       "<div>\n",
       "<style scoped>\n",
       "    .dataframe tbody tr th:only-of-type {\n",
       "        vertical-align: middle;\n",
       "    }\n",
       "\n",
       "    .dataframe tbody tr th {\n",
       "        vertical-align: top;\n",
       "    }\n",
       "\n",
       "    .dataframe thead th {\n",
       "        text-align: right;\n",
       "    }\n",
       "</style>\n",
       "<table border=\"1\" class=\"dataframe\">\n",
       "  <thead>\n",
       "    <tr style=\"text-align: right;\">\n",
       "      <th>status</th>\n",
       "      <th>author_name</th>\n",
       "      <th>accepted</th>\n",
       "      <th>rejected</th>\n",
       "    </tr>\n",
       "  </thead>\n",
       "  <tbody>\n",
       "    <tr>\n",
       "      <th>0</th>\n",
       "      <td>None</td>\n",
       "      <td>653</td>\n",
       "      <td>193</td>\n",
       "    </tr>\n",
       "    <tr>\n",
       "      <th>1</th>\n",
       "      <td>suport decidim.HG i Les Corts</td>\n",
       "      <td>342</td>\n",
       "      <td>154</td>\n",
       "    </tr>\n",
       "    <tr>\n",
       "      <th>2</th>\n",
       "      <td>Suport General - Decidim Barcelona</td>\n",
       "      <td>200</td>\n",
       "      <td>106</td>\n",
       "    </tr>\n",
       "    <tr>\n",
       "      <th>3</th>\n",
       "      <td>decidim sarrià-sant gervasi</td>\n",
       "      <td>84</td>\n",
       "      <td>102</td>\n",
       "    </tr>\n",
       "    <tr>\n",
       "      <th>4</th>\n",
       "      <td>suport decidim.barcelona</td>\n",
       "      <td>313</td>\n",
       "      <td>78</td>\n",
       "    </tr>\n",
       "    <tr>\n",
       "      <th>5</th>\n",
       "      <td>Suport Ciutat Vella</td>\n",
       "      <td>217</td>\n",
       "      <td>73</td>\n",
       "    </tr>\n",
       "    <tr>\n",
       "      <th>6</th>\n",
       "      <td>suportdecidim.santandreu</td>\n",
       "      <td>165</td>\n",
       "      <td>72</td>\n",
       "    </tr>\n",
       "    <tr>\n",
       "      <th>7</th>\n",
       "      <td>Ajuntament de Barcelona</td>\n",
       "      <td>1248</td>\n",
       "      <td>57</td>\n",
       "    </tr>\n",
       "    <tr>\n",
       "      <th>8</th>\n",
       "      <td>Dsoriano</td>\n",
       "      <td>71</td>\n",
       "      <td>55</td>\n",
       "    </tr>\n",
       "    <tr>\n",
       "      <th>9</th>\n",
       "      <td>GR_Raons Públiques</td>\n",
       "      <td>202</td>\n",
       "      <td>52</td>\n",
       "    </tr>\n",
       "    <tr>\n",
       "      <th>10</th>\n",
       "      <td>Suport decidim Activitat Econòmica</td>\n",
       "      <td>183</td>\n",
       "      <td>40</td>\n",
       "    </tr>\n",
       "  </tbody>\n",
       "</table>\n",
       "</div>"
      ],
      "text/plain": [
       "status                         author_name  accepted  rejected\n",
       "0       None                                653       193     \n",
       "1       suport decidim.HG i Les Corts       342       154     \n",
       "2       Suport General - Decidim Barcelona  200       106     \n",
       "3       decidim sarrià-sant gervasi         84        102     \n",
       "4       suport decidim.barcelona            313       78      \n",
       "5       Suport Ciutat Vella                 217       73      \n",
       "6       suportdecidim.santandreu            165       72      \n",
       "7       Ajuntament de Barcelona             1248      57      \n",
       "8       Dsoriano                            71        55      \n",
       "9       GR_Raons Públiques                  202       52      \n",
       "10      Suport decidim Activitat Econòmica  183       40      "
      ]
     },
     "execution_count": 40,
     "metadata": {},
     "output_type": "execute_result"
    }
   ],
   "source": [
    "# Authors with most rejected proposals\n",
    "df[['author_name', 'status']].pivot_table(index='author_name', columns='status', aggfunc=len, fill_value=0).sort_values(by='rejected', ascending = False).reset_index()[0:11]\n"
   ]
  },
  {
   "cell_type": "code",
   "execution_count": 41,
   "metadata": {},
   "outputs": [
    {
     "data": {
      "text/html": [
       "<div>\n",
       "<style scoped>\n",
       "    .dataframe tbody tr th:only-of-type {\n",
       "        vertical-align: middle;\n",
       "    }\n",
       "\n",
       "    .dataframe tbody tr th {\n",
       "        vertical-align: top;\n",
       "    }\n",
       "\n",
       "    .dataframe thead th {\n",
       "        text-align: right;\n",
       "    }\n",
       "</style>\n",
       "<table border=\"1\" class=\"dataframe\">\n",
       "  <thead>\n",
       "    <tr style=\"text-align: right;\">\n",
       "      <th>status</th>\n",
       "      <th>accepted</th>\n",
       "      <th>rejected</th>\n",
       "    </tr>\n",
       "    <tr>\n",
       "      <th>origin</th>\n",
       "      <th></th>\n",
       "      <th></th>\n",
       "    </tr>\n",
       "  </thead>\n",
       "  <tbody>\n",
       "    <tr>\n",
       "      <th>meeting</th>\n",
       "      <td>3410</td>\n",
       "      <td>1088</td>\n",
       "    </tr>\n",
       "    <tr>\n",
       "      <th>citizenship</th>\n",
       "      <td>1825</td>\n",
       "      <td>958</td>\n",
       "    </tr>\n",
       "    <tr>\n",
       "      <th>official</th>\n",
       "      <td>1244</td>\n",
       "      <td>56</td>\n",
       "    </tr>\n",
       "    <tr>\n",
       "      <th>organization</th>\n",
       "      <td>1241</td>\n",
       "      <td>376</td>\n",
       "    </tr>\n",
       "    <tr>\n",
       "      <th>citizen</th>\n",
       "      <td>422</td>\n",
       "      <td>240</td>\n",
       "    </tr>\n",
       "  </tbody>\n",
       "</table>\n",
       "</div>"
      ],
      "text/plain": [
       "status        accepted  rejected\n",
       "origin                          \n",
       "meeting       3410      1088    \n",
       "citizenship   1825      958     \n",
       "official      1244      56      \n",
       "organization  1241      376     \n",
       "citizen       422       240     "
      ]
     },
     "execution_count": 41,
     "metadata": {},
     "output_type": "execute_result"
    }
   ],
   "source": [
    "# Origin with most accepted proposals\n",
    "df[['origin', 'status']].pivot_table(index='origin', columns='status', aggfunc=len, fill_value=0).sort_values(by='accepted', ascending = False)\n"
   ]
  },
  {
   "cell_type": "code",
   "execution_count": 42,
   "metadata": {},
   "outputs": [
    {
     "data": {
      "text/html": [
       "<div>\n",
       "<style scoped>\n",
       "    .dataframe tbody tr th:only-of-type {\n",
       "        vertical-align: middle;\n",
       "    }\n",
       "\n",
       "    .dataframe tbody tr th {\n",
       "        vertical-align: top;\n",
       "    }\n",
       "\n",
       "    .dataframe thead th {\n",
       "        text-align: right;\n",
       "    }\n",
       "</style>\n",
       "<table border=\"1\" class=\"dataframe\">\n",
       "  <thead>\n",
       "    <tr style=\"text-align: right;\">\n",
       "      <th>status</th>\n",
       "      <th>language</th>\n",
       "      <th>accepted</th>\n",
       "      <th>rejected</th>\n",
       "    </tr>\n",
       "  </thead>\n",
       "  <tbody>\n",
       "    <tr>\n",
       "      <th>0</th>\n",
       "      <td>ca</td>\n",
       "      <td>7676</td>\n",
       "      <td>2447</td>\n",
       "    </tr>\n",
       "    <tr>\n",
       "      <th>1</th>\n",
       "      <td>es</td>\n",
       "      <td>448</td>\n",
       "      <td>270</td>\n",
       "    </tr>\n",
       "    <tr>\n",
       "      <th>2</th>\n",
       "      <td>null</td>\n",
       "      <td>18</td>\n",
       "      <td>1</td>\n",
       "    </tr>\n",
       "  </tbody>\n",
       "</table>\n",
       "</div>"
      ],
      "text/plain": [
       "status language  accepted  rejected\n",
       "0       ca       7676      2447    \n",
       "1       es       448       270     \n",
       "2       null     18        1       "
      ]
     },
     "execution_count": 42,
     "metadata": {},
     "output_type": "execute_result"
    }
   ],
   "source": [
    "# Language with most accepted proposals\n",
    "df[['language', 'status']].pivot_table(index='language', columns='status', aggfunc=len, fill_value=0).sort_values(by='accepted', ascending = False).reset_index()[0:11]"
   ]
  },
  {
   "cell_type": "markdown",
   "metadata": {},
   "source": [
    "## 2. Actions"
   ]
  },
  {
   "cell_type": "code",
   "execution_count": 43,
   "metadata": {},
   "outputs": [],
   "source": [
    "# Read proposals dataset\n",
    "df_actions = pd.read_csv(config['ROOT_PATH'] + '/data/' + 'actions.csv', sep=',', encoding='utf-8')"
   ]
  },
  {
   "cell_type": "code",
   "execution_count": 44,
   "metadata": {},
   "outputs": [],
   "source": [
    "# Keep relevant columns\n",
    "df_actions = df_actions[['result_id', 'proposal_ids', 'title_ca', 'description_ca' , 'Title Result ES' , 'Description Result ES']]"
   ]
  },
  {
   "cell_type": "code",
   "execution_count": 45,
   "metadata": {},
   "outputs": [],
   "source": [
    "# Clean the text\n",
    "df_actions['Title Result ES'] = clean_text(df_actions['Title Result ES'])\n",
    "df_actions['title_ca'] = clean_text(df_actions['title_ca'])\n",
    "df_actions['Description Result ES'] = clean_text(df_actions['Description Result ES'])\n",
    "df_actions['description_ca'] = clean_text(df_actions['description_ca'])"
   ]
  },
  {
   "cell_type": "code",
   "execution_count": 46,
   "metadata": {},
   "outputs": [],
   "source": [
    "# Create a new dataset with one row per proposal\n",
    "df_actions_aux = pd.concat([pd.Series(row['result_id'], str(row['proposal_ids']).split(';')) for _, row in df_actions.iterrows()]).reset_index()\n",
    "df_actions_aux.columns = ['proposal', 'action']"
   ]
  },
  {
   "cell_type": "code",
   "execution_count": 47,
   "metadata": {},
   "outputs": [],
   "source": [
    "# Clean the dataset\n",
    "df_actions_aux = pd.merge(df_actions_aux, df_actions, left_on='action', right_on='result_id')\n",
    "df_actions_aux = df_actions_aux.drop(columns=['result_id'])\n",
    "\n",
    "df_actions_aux.columns = ['proposal', 'action', 'proposal_list', 'title_ca_action', 'description_ca_action' , 'title_es_action' , 'description_es_action']\n",
    "df_actions_aux['proposal_list'] = df_actions_aux.proposal_list.str.split(';').tolist()\n",
    "\n",
    "# Change some column types\n",
    "df_actions_aux = df_actions_aux.astype({'action': 'object'})\n",
    "df_actions_aux['action'] = df_actions_aux['action'].astype(str)"
   ]
  },
  {
   "cell_type": "code",
   "execution_count": 48,
   "metadata": {},
   "outputs": [
    {
     "data": {
      "text/html": [
       "<div>\n",
       "<style scoped>\n",
       "    .dataframe tbody tr th:only-of-type {\n",
       "        vertical-align: middle;\n",
       "    }\n",
       "\n",
       "    .dataframe tbody tr th {\n",
       "        vertical-align: top;\n",
       "    }\n",
       "\n",
       "    .dataframe thead th {\n",
       "        text-align: right;\n",
       "    }\n",
       "</style>\n",
       "<table border=\"1\" class=\"dataframe\">\n",
       "  <thead>\n",
       "    <tr style=\"text-align: right;\">\n",
       "      <th></th>\n",
       "      <th>proposal</th>\n",
       "      <th>action</th>\n",
       "      <th>proposal_list</th>\n",
       "      <th>title_ca_action</th>\n",
       "      <th>description_ca_action</th>\n",
       "      <th>title_es_action</th>\n",
       "      <th>description_es_action</th>\n",
       "    </tr>\n",
       "  </thead>\n",
       "  <tbody>\n",
       "    <tr>\n",
       "      <th>0</th>\n",
       "      <td>2305</td>\n",
       "      <td>2585</td>\n",
       "      <td>[2305, 2372, 7012, 7115]</td>\n",
       "      <td>Millorar la qualitat de l'aire</td>\n",
       "      <td>Incrementar l'espai de verd urbà impulsant mesures per revegetar interiors de patis d'illa, terrats i parets mitgeres i treure cotxes dels carrers, eliminant carrils de circulació per a vehicles a favor de carrils bici o bus.</td>\n",
       "      <td>Mejorar la calidad del aire</td>\n",
       "      <td>Incrementar el espacio de verde urbano impulsando medidas para revegetar interiores de patios de manzana, azoteas y paredes medianeras y sacar coches de las calles, eliminando carriles de circulación para vehículos a favor de carriles bici o bus.</td>\n",
       "    </tr>\n",
       "    <tr>\n",
       "      <th>1</th>\n",
       "      <td>2372</td>\n",
       "      <td>2585</td>\n",
       "      <td>[2305, 2372, 7012, 7115]</td>\n",
       "      <td>Millorar la qualitat de l'aire</td>\n",
       "      <td>Incrementar l'espai de verd urbà impulsant mesures per revegetar interiors de patis d'illa, terrats i parets mitgeres i treure cotxes dels carrers, eliminant carrils de circulació per a vehicles a favor de carrils bici o bus.</td>\n",
       "      <td>Mejorar la calidad del aire</td>\n",
       "      <td>Incrementar el espacio de verde urbano impulsando medidas para revegetar interiores de patios de manzana, azoteas y paredes medianeras y sacar coches de las calles, eliminando carriles de circulación para vehículos a favor de carriles bici o bus.</td>\n",
       "    </tr>\n",
       "    <tr>\n",
       "      <th>2</th>\n",
       "      <td>7012</td>\n",
       "      <td>2585</td>\n",
       "      <td>[2305, 2372, 7012, 7115]</td>\n",
       "      <td>Millorar la qualitat de l'aire</td>\n",
       "      <td>Incrementar l'espai de verd urbà impulsant mesures per revegetar interiors de patis d'illa, terrats i parets mitgeres i treure cotxes dels carrers, eliminant carrils de circulació per a vehicles a favor de carrils bici o bus.</td>\n",
       "      <td>Mejorar la calidad del aire</td>\n",
       "      <td>Incrementar el espacio de verde urbano impulsando medidas para revegetar interiores de patios de manzana, azoteas y paredes medianeras y sacar coches de las calles, eliminando carriles de circulación para vehículos a favor de carriles bici o bus.</td>\n",
       "    </tr>\n",
       "    <tr>\n",
       "      <th>3</th>\n",
       "      <td>7115</td>\n",
       "      <td>2585</td>\n",
       "      <td>[2305, 2372, 7012, 7115]</td>\n",
       "      <td>Millorar la qualitat de l'aire</td>\n",
       "      <td>Incrementar l'espai de verd urbà impulsant mesures per revegetar interiors de patis d'illa, terrats i parets mitgeres i treure cotxes dels carrers, eliminant carrils de circulació per a vehicles a favor de carrils bici o bus.</td>\n",
       "      <td>Mejorar la calidad del aire</td>\n",
       "      <td>Incrementar el espacio de verde urbano impulsando medidas para revegetar interiores de patios de manzana, azoteas y paredes medianeras y sacar coches de las calles, eliminando carriles de circulación para vehículos a favor de carriles bici o bus.</td>\n",
       "    </tr>\n",
       "    <tr>\n",
       "      <th>4</th>\n",
       "      <td>nan</td>\n",
       "      <td>2587</td>\n",
       "      <td>NaN</td>\n",
       "      <td>Posar en marxa programes de suport educatiu i de salut mental en sinergia amb l’entorn</td>\n",
       "      <td>Posar en marxa, a les escoles i instituts més desafavorits, programes de suport educatiu i de salut mental en sinergia amb l’entorn, de manera que s’hi incorporin diferents agents socials (educadors socials, treballadors socials i psicòlegs) i entitats socials que puguin desenvolupar tasques d’assessorament i suport als professionals dels serveis socials.</td>\n",
       "      <td>Poner en marcha programas de apoyo educativo y de salud mental en sinergia con el entorno</td>\n",
       "      <td>Poner en marcha, en las escuelas e institutos más desfavorecidos, programas de apoyo educativo y de salud mental en sinergia con el entorno, de manera que se incorporen diferentes agentes sociales (educadores sociales, trabajadores sociales y psicólogos) y entidades sociales que puedan desarrollar tareas de asesoramiento y apoyo a los profesionales de los servicios sociales.</td>\n",
       "    </tr>\n",
       "  </tbody>\n",
       "</table>\n",
       "</div>"
      ],
      "text/plain": [
       "  proposal action             proposal_list                                                                         title_ca_action                                                                                                                                                                                                                                                                                                                                                  description_ca_action                                                                            title_es_action                                                                                                                                                                                                                                                                                                                                                                      description_es_action\n",
       "0  2305     2585   [2305, 2372, 7012, 7115]  Millorar la qualitat de l'aire                                                          Incrementar l'espai de verd urbà impulsant mesures per revegetar interiors de patis d'illa, terrats i parets mitgeres i treure cotxes dels carrers, eliminant carrils de circulació per a vehicles a favor de carrils bici o bus.                                                                                                                                      Mejorar la calidad del aire                                                                Incrementar el espacio de verde urbano impulsando medidas para revegetar interiores de patios de manzana, azoteas y paredes medianeras y sacar coches de las calles, eliminando carriles de circulación para vehículos a favor de carriles bici o bus.                                                                                                                                   \n",
       "1  2372     2585   [2305, 2372, 7012, 7115]  Millorar la qualitat de l'aire                                                          Incrementar l'espai de verd urbà impulsant mesures per revegetar interiors de patis d'illa, terrats i parets mitgeres i treure cotxes dels carrers, eliminant carrils de circulació per a vehicles a favor de carrils bici o bus.                                                                                                                                      Mejorar la calidad del aire                                                                Incrementar el espacio de verde urbano impulsando medidas para revegetar interiores de patios de manzana, azoteas y paredes medianeras y sacar coches de las calles, eliminando carriles de circulación para vehículos a favor de carriles bici o bus.                                                                                                                                   \n",
       "2  7012     2585   [2305, 2372, 7012, 7115]  Millorar la qualitat de l'aire                                                          Incrementar l'espai de verd urbà impulsant mesures per revegetar interiors de patis d'illa, terrats i parets mitgeres i treure cotxes dels carrers, eliminant carrils de circulació per a vehicles a favor de carrils bici o bus.                                                                                                                                      Mejorar la calidad del aire                                                                Incrementar el espacio de verde urbano impulsando medidas para revegetar interiores de patios de manzana, azoteas y paredes medianeras y sacar coches de las calles, eliminando carriles de circulación para vehículos a favor de carriles bici o bus.                                                                                                                                   \n",
       "3  7115     2585   [2305, 2372, 7012, 7115]  Millorar la qualitat de l'aire                                                          Incrementar l'espai de verd urbà impulsant mesures per revegetar interiors de patis d'illa, terrats i parets mitgeres i treure cotxes dels carrers, eliminant carrils de circulació per a vehicles a favor de carrils bici o bus.                                                                                                                                      Mejorar la calidad del aire                                                                Incrementar el espacio de verde urbano impulsando medidas para revegetar interiores de patios de manzana, azoteas y paredes medianeras y sacar coches de las calles, eliminando carriles de circulación para vehículos a favor de carriles bici o bus.                                                                                                                                   \n",
       "4  nan      2587   NaN                       Posar en marxa programes de suport educatiu i de salut mental en sinergia amb l’entorn  Posar en marxa, a les escoles i instituts més desafavorits, programes de suport educatiu i de salut mental en sinergia amb l’entorn, de manera que s’hi incorporin diferents agents socials (educadors socials, treballadors socials i psicòlegs) i entitats socials que puguin desenvolupar tasques d’assessorament i suport als professionals dels serveis socials.  Poner en marcha programas de apoyo educativo y de salud mental en sinergia con el entorno  Poner en marcha, en las escuelas e institutos más desfavorecidos, programas de apoyo educativo y de salud mental en sinergia con el entorno, de manera que se incorporen diferentes agentes sociales (educadores sociales, trabajadores sociales y psicólogos) y entidades sociales que puedan desarrollar tareas de asesoramiento y apoyo a los profesionales de los servicios sociales."
      ]
     },
     "execution_count": 48,
     "metadata": {},
     "output_type": "execute_result"
    }
   ],
   "source": [
    "df_actions_aux.head()"
   ]
  },
  {
   "cell_type": "markdown",
   "metadata": {},
   "source": [
    "**NOTE**: There are some actions that do not have any proposal."
   ]
  },
  {
   "cell_type": "code",
   "execution_count": 49,
   "metadata": {},
   "outputs": [],
   "source": [
    "# Merge actions with proposals\n",
    "df_aux = pd.merge(df, df_actions_aux, on = 'proposal', how = 'outer')"
   ]
  },
  {
   "cell_type": "code",
   "execution_count": 56,
   "metadata": {},
   "outputs": [],
   "source": [
    "# Clean\n",
    "df_aux['proposal'] = df_aux.proposal.replace(r'nan', np.nan, regex=True)"
   ]
  },
  {
   "cell_type": "code",
   "execution_count": 50,
   "metadata": {},
   "outputs": [],
   "source": [
    "# Content analysis\n"
   ]
  },
  {
   "cell_type": "code",
   "execution_count": 57,
   "metadata": {},
   "outputs": [],
   "source": [
    "# Write final dataset\n",
    "df_aux.to_csv(config['ROOT_PATH'] + '/data/' + 'proposals_clean.csv', sep=',', encoding='utf-8')"
   ]
  }
 ],
 "metadata": {
  "kernelspec": {
   "display_name": "Python 3",
   "language": "python",
   "name": "python3"
  },
  "language_info": {
   "codemirror_mode": {
    "name": "ipython",
    "version": 3
   },
   "file_extension": ".py",
   "mimetype": "text/x-python",
   "name": "python",
   "nbconvert_exporter": "python",
   "pygments_lexer": "ipython3",
   "version": "3.5.6"
  }
 },
 "nbformat": 4,
 "nbformat_minor": 2
}
